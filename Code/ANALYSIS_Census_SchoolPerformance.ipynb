{
 "cells": [
  {
   "cell_type": "code",
   "execution_count": 2,
   "metadata": {},
   "outputs": [],
   "source": [
    "# Programmer: Matt Woodmansee\n",
    "\n",
    "# Import Dependencies\n",
    "import pandas as pd\n",
    "import matplotlib.pyplot as plt\n",
    "from scipy.stats import linregress, ttest_ind, sem\n",
    "import pylab as pl\n",
    "import numpy as np"
   ]
  },
  {
   "cell_type": "code",
   "execution_count": 3,
   "metadata": {},
   "outputs": [],
   "source": [
    "# read in the two csv files (census data and school performance)\n",
    "\n",
    "#census data read\n",
    "census_df = pd.read_csv(\"../Resources/clean_census.csv\")\n",
    "\n",
    "#school performance data read\n",
    "school_df = pd.read_csv(\"../Resources/Combined_HS_Performance_Data.csv\")\n"
   ]
  },
  {
   "cell_type": "code",
   "execution_count": 4,
   "metadata": {},
   "outputs": [
    {
     "data": {
      "text/plain": [
       "Index(['DBN', 'graduation_rate_2011', 'college_career_rate_2011',\n",
       "       'graduation_rate_2012', 'college_career_rate_2012',\n",
       "       'graduation_rate_2013', 'college_career_rate_2013',\n",
       "       'graduation_rate_2014', 'college_career_rate_2014', 'Address',\n",
       "       'Borough Name', 'Community Board', 'Council District ', 'Census Tract',\n",
       "       'NTA', 'Precinct', 'Population'],\n",
       "      dtype='object')"
      ]
     },
     "execution_count": 4,
     "metadata": {},
     "output_type": "execute_result"
    }
   ],
   "source": [
    "#making sure we understand the contents of the school csv file.\n",
    "school_df.columns"
   ]
  },
  {
   "cell_type": "code",
   "execution_count": 5,
   "metadata": {},
   "outputs": [],
   "source": [
    "#because there are multiple schools in many NTAs, we needed to group the schools by the NTA to get the overall numbers.\n",
    "school_summary = school_df.groupby(\"NTA\")\n",
    "NTA_grad_rate = school_summary[\"graduation_rate_2014\"].mean()\n",
    "NTA_college_rate = school_summary[\"college_career_rate_2014\"].mean()"
   ]
  },
  {
   "cell_type": "code",
   "execution_count": 6,
   "metadata": {},
   "outputs": [
    {
     "data": {
      "text/html": [
       "<div>\n",
       "<style scoped>\n",
       "    .dataframe tbody tr th:only-of-type {\n",
       "        vertical-align: middle;\n",
       "    }\n",
       "\n",
       "    .dataframe tbody tr th {\n",
       "        vertical-align: top;\n",
       "    }\n",
       "\n",
       "    .dataframe thead th {\n",
       "        text-align: right;\n",
       "    }\n",
       "</style>\n",
       "<table border=\"1\" class=\"dataframe\">\n",
       "  <thead>\n",
       "    <tr style=\"text-align: right;\">\n",
       "      <th></th>\n",
       "      <th>Total Population</th>\n",
       "      <th>Did Not Grad HS</th>\n",
       "      <th>Grad HS or Higher</th>\n",
       "      <th>Bachelor Degree or Higher</th>\n",
       "      <th>households</th>\n",
       "      <th>NTA</th>\n",
       "      <th>Median Household Income</th>\n",
       "      <th>Total Pop 25 and over</th>\n",
       "    </tr>\n",
       "  </thead>\n",
       "  <tbody>\n",
       "    <tr>\n",
       "      <th>0</th>\n",
       "      <td>48351</td>\n",
       "      <td>2734</td>\n",
       "      <td>29374</td>\n",
       "      <td>11362</td>\n",
       "      <td>16432</td>\n",
       "      <td>Georgetown-Marine Park-Bergen Beach-Mill Basin</td>\n",
       "      <td>1520979.0</td>\n",
       "      <td>32108</td>\n",
       "    </tr>\n",
       "    <tr>\n",
       "      <th>1</th>\n",
       "      <td>61584</td>\n",
       "      <td>6094</td>\n",
       "      <td>39445</td>\n",
       "      <td>16743</td>\n",
       "      <td>25070</td>\n",
       "      <td>Sheepshead Bay-Gerritsen Beach-Manhattan Beach</td>\n",
       "      <td>1054259.0</td>\n",
       "      <td>45539</td>\n",
       "    </tr>\n",
       "    <tr>\n",
       "      <th>2</th>\n",
       "      <td>100130</td>\n",
       "      <td>14357</td>\n",
       "      <td>52523</td>\n",
       "      <td>16187</td>\n",
       "      <td>40818</td>\n",
       "      <td>Crown Heights North</td>\n",
       "      <td>980637.0</td>\n",
       "      <td>66880</td>\n",
       "    </tr>\n",
       "    <tr>\n",
       "      <th>3</th>\n",
       "      <td>33155</td>\n",
       "      <td>5964</td>\n",
       "      <td>19097</td>\n",
       "      <td>9312</td>\n",
       "      <td>14888</td>\n",
       "      <td>East Williamsburg</td>\n",
       "      <td>519058.0</td>\n",
       "      <td>25061</td>\n",
       "    </tr>\n",
       "    <tr>\n",
       "      <th>4</th>\n",
       "      <td>24199</td>\n",
       "      <td>3630</td>\n",
       "      <td>13179</td>\n",
       "      <td>4001</td>\n",
       "      <td>7749</td>\n",
       "      <td>College Point</td>\n",
       "      <td>354073.0</td>\n",
       "      <td>16809</td>\n",
       "    </tr>\n",
       "  </tbody>\n",
       "</table>\n",
       "</div>"
      ],
      "text/plain": [
       "   Total Population  Did Not Grad HS  Grad HS or Higher  \\\n",
       "0             48351             2734              29374   \n",
       "1             61584             6094              39445   \n",
       "2            100130            14357              52523   \n",
       "3             33155             5964              19097   \n",
       "4             24199             3630              13179   \n",
       "\n",
       "   Bachelor Degree or Higher  households  \\\n",
       "0                      11362       16432   \n",
       "1                      16743       25070   \n",
       "2                      16187       40818   \n",
       "3                       9312       14888   \n",
       "4                       4001        7749   \n",
       "\n",
       "                                              NTA  Median Household Income  \\\n",
       "0  Georgetown-Marine Park-Bergen Beach-Mill Basin                1520979.0   \n",
       "1  Sheepshead Bay-Gerritsen Beach-Manhattan Beach                1054259.0   \n",
       "2                             Crown Heights North                 980637.0   \n",
       "3                               East Williamsburg                 519058.0   \n",
       "4                                   College Point                 354073.0   \n",
       "\n",
       "   Total Pop 25 and over  \n",
       "0                  32108  \n",
       "1                  45539  \n",
       "2                  66880  \n",
       "3                  25061  \n",
       "4                  16809  "
      ]
     },
     "execution_count": 6,
     "metadata": {},
     "output_type": "execute_result"
    }
   ],
   "source": [
    "census_df.head()"
   ]
  },
  {
   "cell_type": "code",
   "execution_count": 7,
   "metadata": {},
   "outputs": [],
   "source": [
    "#add percentage column for educational attainment\n",
    "census_df[\"Pct Did Not Grad HS\"] = census_df[\"Did Not Grad HS\"] / census_df[\"Total Pop 25 and over\"]\n",
    "census_df[\"Pct Grad HS or Higher\"] = census_df[\"Grad HS or Higher\"] / census_df[\"Total Pop 25 and over\"]\n",
    "census_df[\"Pct Bachelor Degree or Higher\"] = census_df[\"Bachelor Degree or Higher\"] / census_df[\"Total Pop 25 and over\"]"
   ]
  },
  {
   "cell_type": "code",
   "execution_count": 8,
   "metadata": {},
   "outputs": [],
   "source": [
    "#make the graduation rate and college rate dataframes so we can merge everything together.\n",
    "HS_grad_rate = pd.DataFrame(NTA_grad_rate)\n",
    "HS_college_rate = pd.DataFrame(NTA_college_rate)"
   ]
  },
  {
   "cell_type": "code",
   "execution_count": 9,
   "metadata": {},
   "outputs": [
    {
     "data": {
      "text/html": [
       "<div>\n",
       "<style scoped>\n",
       "    .dataframe tbody tr th:only-of-type {\n",
       "        vertical-align: middle;\n",
       "    }\n",
       "\n",
       "    .dataframe tbody tr th {\n",
       "        vertical-align: top;\n",
       "    }\n",
       "\n",
       "    .dataframe thead th {\n",
       "        text-align: right;\n",
       "    }\n",
       "</style>\n",
       "<table border=\"1\" class=\"dataframe\">\n",
       "  <thead>\n",
       "    <tr style=\"text-align: right;\">\n",
       "      <th></th>\n",
       "      <th>college_career_rate_2014</th>\n",
       "    </tr>\n",
       "    <tr>\n",
       "      <th>NTA</th>\n",
       "      <th></th>\n",
       "    </tr>\n",
       "  </thead>\n",
       "  <tbody>\n",
       "    <tr>\n",
       "      <th>Annadale-Huguenot-Prince's Bay-Eltingville</th>\n",
       "      <td>0.660000</td>\n",
       "    </tr>\n",
       "    <tr>\n",
       "      <th>Astoria</th>\n",
       "      <td>0.563333</td>\n",
       "    </tr>\n",
       "    <tr>\n",
       "      <th>Auburndale</th>\n",
       "      <td>0.770000</td>\n",
       "    </tr>\n",
       "    <tr>\n",
       "      <th>Baisley Park</th>\n",
       "      <td>0.500000</td>\n",
       "    </tr>\n",
       "    <tr>\n",
       "      <th>Battery Park City-Lower Manhattan</th>\n",
       "      <td>0.668571</td>\n",
       "    </tr>\n",
       "  </tbody>\n",
       "</table>\n",
       "</div>"
      ],
      "text/plain": [
       "                                            college_career_rate_2014\n",
       "NTA                                                                 \n",
       "Annadale-Huguenot-Prince's Bay-Eltingville                  0.660000\n",
       "Astoria                                                     0.563333\n",
       "Auburndale                                                  0.770000\n",
       "Baisley Park                                                0.500000\n",
       "Battery Park City-Lower Manhattan                           0.668571"
      ]
     },
     "execution_count": 9,
     "metadata": {},
     "output_type": "execute_result"
    }
   ],
   "source": [
    "HS_college_rate.head()"
   ]
  },
  {
   "cell_type": "code",
   "execution_count": 10,
   "metadata": {},
   "outputs": [
    {
     "data": {
      "text/html": [
       "<div>\n",
       "<style scoped>\n",
       "    .dataframe tbody tr th:only-of-type {\n",
       "        vertical-align: middle;\n",
       "    }\n",
       "\n",
       "    .dataframe tbody tr th {\n",
       "        vertical-align: top;\n",
       "    }\n",
       "\n",
       "    .dataframe thead th {\n",
       "        text-align: right;\n",
       "    }\n",
       "</style>\n",
       "<table border=\"1\" class=\"dataframe\">\n",
       "  <thead>\n",
       "    <tr style=\"text-align: right;\">\n",
       "      <th></th>\n",
       "      <th>Total Population</th>\n",
       "      <th>Did Not Grad HS</th>\n",
       "      <th>Grad HS or Higher</th>\n",
       "      <th>Bachelor Degree or Higher</th>\n",
       "      <th>households</th>\n",
       "      <th>NTA</th>\n",
       "      <th>Median Household Income</th>\n",
       "      <th>Total Pop 25 and over</th>\n",
       "      <th>Pct Did Not Grad HS</th>\n",
       "      <th>Pct Grad HS or Higher</th>\n",
       "      <th>Pct Bachelor Degree or Higher</th>\n",
       "      <th>graduation_rate_2014</th>\n",
       "      <th>college_career_rate_2014</th>\n",
       "    </tr>\n",
       "  </thead>\n",
       "  <tbody>\n",
       "    <tr>\n",
       "      <th>0</th>\n",
       "      <td>61584</td>\n",
       "      <td>6094</td>\n",
       "      <td>39445</td>\n",
       "      <td>16743</td>\n",
       "      <td>25070</td>\n",
       "      <td>Sheepshead Bay-Gerritsen Beach-Manhattan Beach</td>\n",
       "      <td>1054259.0</td>\n",
       "      <td>45539</td>\n",
       "      <td>0.133819</td>\n",
       "      <td>0.866181</td>\n",
       "      <td>0.367663</td>\n",
       "      <td>0.960</td>\n",
       "      <td>0.910</td>\n",
       "    </tr>\n",
       "    <tr>\n",
       "      <th>1</th>\n",
       "      <td>100130</td>\n",
       "      <td>14357</td>\n",
       "      <td>52523</td>\n",
       "      <td>16187</td>\n",
       "      <td>40818</td>\n",
       "      <td>Crown Heights North</td>\n",
       "      <td>980637.0</td>\n",
       "      <td>66880</td>\n",
       "      <td>0.214668</td>\n",
       "      <td>0.785332</td>\n",
       "      <td>0.242031</td>\n",
       "      <td>0.545</td>\n",
       "      <td>0.410</td>\n",
       "    </tr>\n",
       "    <tr>\n",
       "      <th>2</th>\n",
       "      <td>33155</td>\n",
       "      <td>5964</td>\n",
       "      <td>19097</td>\n",
       "      <td>9312</td>\n",
       "      <td>14888</td>\n",
       "      <td>East Williamsburg</td>\n",
       "      <td>519058.0</td>\n",
       "      <td>25061</td>\n",
       "      <td>0.237979</td>\n",
       "      <td>0.762021</td>\n",
       "      <td>0.371573</td>\n",
       "      <td>0.750</td>\n",
       "      <td>0.595</td>\n",
       "    </tr>\n",
       "    <tr>\n",
       "      <th>3</th>\n",
       "      <td>28727</td>\n",
       "      <td>1787</td>\n",
       "      <td>17929</td>\n",
       "      <td>6037</td>\n",
       "      <td>9786</td>\n",
       "      <td>Annadale-Huguenot-Prince's Bay-Eltingville</td>\n",
       "      <td>521048.0</td>\n",
       "      <td>19716</td>\n",
       "      <td>0.090637</td>\n",
       "      <td>0.909363</td>\n",
       "      <td>0.306198</td>\n",
       "      <td>0.850</td>\n",
       "      <td>0.660</td>\n",
       "    </tr>\n",
       "    <tr>\n",
       "      <th>4</th>\n",
       "      <td>53800</td>\n",
       "      <td>9477</td>\n",
       "      <td>24580</td>\n",
       "      <td>5710</td>\n",
       "      <td>18657</td>\n",
       "      <td>Soundview-Castle Hill-Clason Point-Harding Park</td>\n",
       "      <td>490852.0</td>\n",
       "      <td>34057</td>\n",
       "      <td>0.278269</td>\n",
       "      <td>0.721731</td>\n",
       "      <td>0.167660</td>\n",
       "      <td>0.618</td>\n",
       "      <td>0.364</td>\n",
       "    </tr>\n",
       "  </tbody>\n",
       "</table>\n",
       "</div>"
      ],
      "text/plain": [
       "   Total Population  Did Not Grad HS  Grad HS or Higher  \\\n",
       "0             61584             6094              39445   \n",
       "1            100130            14357              52523   \n",
       "2             33155             5964              19097   \n",
       "3             28727             1787              17929   \n",
       "4             53800             9477              24580   \n",
       "\n",
       "   Bachelor Degree or Higher  households  \\\n",
       "0                      16743       25070   \n",
       "1                      16187       40818   \n",
       "2                       9312       14888   \n",
       "3                       6037        9786   \n",
       "4                       5710       18657   \n",
       "\n",
       "                                               NTA  Median Household Income  \\\n",
       "0   Sheepshead Bay-Gerritsen Beach-Manhattan Beach                1054259.0   \n",
       "1                              Crown Heights North                 980637.0   \n",
       "2                                East Williamsburg                 519058.0   \n",
       "3       Annadale-Huguenot-Prince's Bay-Eltingville                 521048.0   \n",
       "4  Soundview-Castle Hill-Clason Point-Harding Park                 490852.0   \n",
       "\n",
       "   Total Pop 25 and over  Pct Did Not Grad HS  Pct Grad HS or Higher  \\\n",
       "0                  45539             0.133819               0.866181   \n",
       "1                  66880             0.214668               0.785332   \n",
       "2                  25061             0.237979               0.762021   \n",
       "3                  19716             0.090637               0.909363   \n",
       "4                  34057             0.278269               0.721731   \n",
       "\n",
       "   Pct Bachelor Degree or Higher  graduation_rate_2014  \\\n",
       "0                       0.367663                 0.960   \n",
       "1                       0.242031                 0.545   \n",
       "2                       0.371573                 0.750   \n",
       "3                       0.306198                 0.850   \n",
       "4                       0.167660                 0.618   \n",
       "\n",
       "   college_career_rate_2014  \n",
       "0                     0.910  \n",
       "1                     0.410  \n",
       "2                     0.595  \n",
       "3                     0.660  \n",
       "4                     0.364  "
      ]
     },
     "execution_count": 10,
     "metadata": {},
     "output_type": "execute_result"
    }
   ],
   "source": [
    "#merge the census dataframe with the two performance dataframes.\n",
    "school_census_df = pd.merge(pd.merge(census_df, HS_grad_rate, on=\"NTA\"), HS_college_rate, on=\"NTA\")\n",
    "school_census_df.head()"
   ]
  },
  {
   "cell_type": "code",
   "execution_count": 11,
   "metadata": {},
   "outputs": [
    {
     "data": {
      "text/html": [
       "<div>\n",
       "<style scoped>\n",
       "    .dataframe tbody tr th:only-of-type {\n",
       "        vertical-align: middle;\n",
       "    }\n",
       "\n",
       "    .dataframe tbody tr th {\n",
       "        vertical-align: top;\n",
       "    }\n",
       "\n",
       "    .dataframe thead th {\n",
       "        text-align: right;\n",
       "    }\n",
       "</style>\n",
       "<table border=\"1\" class=\"dataframe\">\n",
       "  <thead>\n",
       "    <tr style=\"text-align: right;\">\n",
       "      <th></th>\n",
       "      <th>NTA</th>\n",
       "      <th>Median Household Income</th>\n",
       "      <th>graduation_rate_2014</th>\n",
       "      <th>college_career_rate_2014</th>\n",
       "    </tr>\n",
       "  </thead>\n",
       "  <tbody>\n",
       "    <tr>\n",
       "      <th>0</th>\n",
       "      <td>Sheepshead Bay-Gerritsen Beach-Manhattan Beach</td>\n",
       "      <td>1054259.0</td>\n",
       "      <td>0.960</td>\n",
       "      <td>0.910</td>\n",
       "    </tr>\n",
       "    <tr>\n",
       "      <th>1</th>\n",
       "      <td>Crown Heights North</td>\n",
       "      <td>980637.0</td>\n",
       "      <td>0.545</td>\n",
       "      <td>0.410</td>\n",
       "    </tr>\n",
       "    <tr>\n",
       "      <th>2</th>\n",
       "      <td>East Williamsburg</td>\n",
       "      <td>519058.0</td>\n",
       "      <td>0.750</td>\n",
       "      <td>0.595</td>\n",
       "    </tr>\n",
       "    <tr>\n",
       "      <th>3</th>\n",
       "      <td>Annadale-Huguenot-Prince's Bay-Eltingville</td>\n",
       "      <td>521048.0</td>\n",
       "      <td>0.850</td>\n",
       "      <td>0.660</td>\n",
       "    </tr>\n",
       "    <tr>\n",
       "      <th>4</th>\n",
       "      <td>Soundview-Castle Hill-Clason Point-Harding Park</td>\n",
       "      <td>490852.0</td>\n",
       "      <td>0.618</td>\n",
       "      <td>0.364</td>\n",
       "    </tr>\n",
       "  </tbody>\n",
       "</table>\n",
       "</div>"
      ],
      "text/plain": [
       "                                               NTA  Median Household Income  \\\n",
       "0   Sheepshead Bay-Gerritsen Beach-Manhattan Beach                1054259.0   \n",
       "1                              Crown Heights North                 980637.0   \n",
       "2                                East Williamsburg                 519058.0   \n",
       "3       Annadale-Huguenot-Prince's Bay-Eltingville                 521048.0   \n",
       "4  Soundview-Castle Hill-Clason Point-Harding Park                 490852.0   \n",
       "\n",
       "   graduation_rate_2014  college_career_rate_2014  \n",
       "0                 0.960                     0.910  \n",
       "1                 0.545                     0.410  \n",
       "2                 0.750                     0.595  \n",
       "3                 0.850                     0.660  \n",
       "4                 0.618                     0.364  "
      ]
     },
     "execution_count": 11,
     "metadata": {},
     "output_type": "execute_result"
    }
   ],
   "source": [
    "#create lists just for median household income analysis\n",
    "x_med_df = school_census_df[[\"NTA\", \"Median Household Income\", \"graduation_rate_2014\", \"college_career_rate_2014\"]]\n",
    "x_med_df.head()"
   ]
  },
  {
   "cell_type": "code",
   "execution_count": 12,
   "metadata": {},
   "outputs": [
    {
     "name": "stderr",
     "output_type": "stream",
     "text": [
      "C:\\Users\\Allen\\Anaconda3\\envs\\PythonData\\lib\\site-packages\\ipykernel_launcher.py:2: SettingWithCopyWarning: \n",
      "A value is trying to be set on a copy of a slice from a DataFrame\n",
      "\n",
      "See the caveats in the documentation: http://pandas.pydata.org/pandas-docs/stable/indexing.html#indexing-view-versus-copy\n",
      "  \n"
     ]
    }
   ],
   "source": [
    "#To process the median household income, we need to remove the NaN value rows.\n",
    "x_med_df.dropna(inplace = True)"
   ]
  },
  {
   "cell_type": "code",
   "execution_count": 13,
   "metadata": {},
   "outputs": [],
   "source": [
    "#create lists for the median household income for xticks and yticks\n",
    "med_yticks = [\"40%\", \"50%\", \"60%\", \"70%\", \"80%\", \"90%\", \"100%\"]\n",
    "not_grad_HS = [\"0%\",\"0%\",\"10%\", \"20%\", \"30%\", \"40%\", \"50%\", \"60%\"]\n",
    "HS_or_Greater = [\"40%\",\"50%\", \"60%\", \"70%\", \"80%\", \"90%\", \"100%\"]\n",
    "BachelorsDegree = [\"0%\", \"10%\", \"20%\", \"30%\",\"40%\",\"50%\", \"60%\", \"70%\", \"80%\", \"90%\"]"
   ]
  },
  {
   "cell_type": "code",
   "execution_count": 22,
   "metadata": {},
   "outputs": [
    {
     "name": "stdout",
     "output_type": "stream",
     "text": [
      "y=7.557478156219234e-08x+0.689644687540518\n"
     ]
    },
    {
     "data": {
      "image/png": "[encoded data removed]",
      "text/plain": [
       "<Figure size 432x288 with 1 Axes>"
      ]
     },
     "metadata": {},
     "output_type": "display_data"
    }
   ],
   "source": [
    "#create a scatterplot and trend line showing the relationship between Median Household income and the Graduation Rate.\n",
    "\n",
    "x_med_df.plot(kind='scatter', x=\"Median Household Income\", y=\"graduation_rate_2014\", edgecolors = \"Black\", linewidths = 0.4, color=\"Red\", alpha=0.8)\n",
    "\n",
    "# calc the trendline\n",
    "z = np.polyfit(x_med_df[\"Median Household Income\"], x_med_df[\"graduation_rate_2014\"], 1)\n",
    "p = np.poly1d(z)\n",
    "pl.plot(x_med_df[\"Median Household Income\"],p(x_med_df[\"Median Household Income\"]),\"r--\")\n",
    "\n",
    "\n",
    "pl.ylabel(\"High School Graduation Rate in Percent\")\n",
    "pl.title(\"Median Household Income and Graduation Rates\")\n",
    "pl.grid(axis = \"both\")\n",
    "\n",
    "\n",
    "# the line equation:\n",
    "print(f\"y={z[0]}x+{z[1]}\")\n",
    "\n",
    "plt.savefig(\"../Images/MedHouseIncome_GradRate.png\")\n",
    "plt.show()\n"
   ]
  },
  {
   "cell_type": "code",
   "execution_count": 26,
   "metadata": {},
   "outputs": [],
   "source": [
    "#math to create the regression line for those that did not graduate HS and graduation rates.\n",
    "(slope,intercept, _, _, _) = linregress(school_census_df[\"Pct Did Not Grad HS\"], school_census_df[\"graduation_rate_2014\"])\n",
    "fit_DNGHS = slope * school_census_df[\"Pct Did Not Grad HS\"] + intercept"
   ]
  },
  {
   "cell_type": "code",
   "execution_count": 16,
   "metadata": {},
   "outputs": [
    {
     "data": {
      "image/png": "[encoded data removed]",
      "text/plain": [
       "<Figure size 432x288 with 1 Axes>"
      ]
     },
     "metadata": {},
     "output_type": "display_data"
    }
   ],
   "source": [
    "#create a scatterplot and trend line showing the relationship between those that did not graduate HS in the NTA\n",
    "#and the Graduation Rate.\n",
    "fig, ax = plt.subplots()\n",
    "\n",
    "ax.plot(school_census_df[\"Pct Did Not Grad HS\"], school_census_df[\"graduation_rate_2014\"], linewidth = 0, marker='o')\n",
    "ax.plot(school_census_df[\"Pct Did Not Grad HS\"], fit_DNGHS, 'b--')\n",
    "\n",
    "ax.set_xlabel(\"Percentage of Residents who did not Graduate High School\")\n",
    "ax.set_ylabel(\"High School Graduation Rate in Percent\")\n",
    "ax.set_title(\"Residents who did not Graduate HS and Graduation Rates\")\n",
    "ax.set_yticklabels(med_yticks)\n",
    "ax.set_xticklabels(not_grad_HS)\n",
    "ax.grid(axis = \"both\")\n",
    "\n",
    "plt.savefig(\"../Images/Not_HS_GradRate.png\")\n",
    "plt.show()"
   ]
  },
  {
   "cell_type": "code",
   "execution_count": 25,
   "metadata": {},
   "outputs": [],
   "source": [
    "#math to create the regression line for those that graduated HS or better and graduation rates.\n",
    "(slope,intercept, _, _, _) = linregress(school_census_df[\"Pct Grad HS or Higher\"], school_census_df[\"graduation_rate_2014\"])\n",
    "fit_DGHS = slope * school_census_df[\"Pct Grad HS or Higher\"] + intercept"
   ]
  },
  {
   "cell_type": "code",
   "execution_count": 18,
   "metadata": {},
   "outputs": [
    {
     "data": {
      "image/png": "[encoded data removed]",
      "text/plain": [
       "<Figure size 432x288 with 1 Axes>"
      ]
     },
     "metadata": {},
     "output_type": "display_data"
    }
   ],
   "source": [
    "#create a scatterplot and trend line showing the relationship between those that graduated HS or better in the NTA\n",
    "#and the Graduation Rate.\n",
    "\n",
    "fig, ax = plt.subplots()\n",
    "\n",
    "ax.plot(school_census_df[\"Pct Grad HS or Higher\"], school_census_df[\"graduation_rate_2014\"], linewidth = 0, marker='o')\n",
    "ax.plot(school_census_df[\"Pct Grad HS or Higher\"], fit_DGHS, 'b--')\n",
    "\n",
    "ax.set_xlabel(\"Percentage of Residents who Graduated High School or Better\")\n",
    "ax.set_ylabel(\"High School Graduation Rate in Percent\")\n",
    "ax.set_title(\"Residents who Graduated HS and Graduation Rates\")\n",
    "ax.set_yticklabels(med_yticks)\n",
    "ax.set_xticklabels(HS_or_Greater)\n",
    "ax.grid(axis = \"both\")\n",
    "\n",
    "plt.savefig(\"../Images/Grad_HS_orHigher_GradRate.png\")\n",
    "plt.show()"
   ]
  },
  {
   "cell_type": "code",
   "execution_count": 19,
   "metadata": {},
   "outputs": [],
   "source": [
    "#math to create the regression line for those that received a Bachelor's Degree or better and graduation rates.\n",
    "(slope,intercept, _, _, _) = linregress(school_census_df[\"Pct Bachelor Degree or Higher\"], school_census_df[\"graduation_rate_2014\"])\n",
    "fit_BDOH = slope * school_census_df[\"Pct Bachelor Degree or Higher\"] + intercept\n"
   ]
  },
  {
   "cell_type": "code",
   "execution_count": 20,
   "metadata": {},
   "outputs": [
    {
     "data": {
      "image/png": "[encoded data removed]",
      "text/plain": [
       "<Figure size 432x288 with 1 Axes>"
      ]
     },
     "metadata": {},
     "output_type": "display_data"
    }
   ],
   "source": [
    "#create a scatterplot and trend line showing the relationship between those that graduated a 4-year college or better in the NTA\n",
    "#and the Graduation Rate.\n",
    "fig, ax = plt.subplots()\n",
    "\n",
    "ax.plot(school_census_df[\"Pct Bachelor Degree or Higher\"], school_census_df[\"graduation_rate_2014\"], linewidth = 0, marker='o')\n",
    "ax.plot(school_census_df[\"Pct Bachelor Degree or Higher\"], fit_BDOH, 'b--')\n",
    "\n",
    "ax.set_xlabel(\"Percentage of Residents who Received a Bachelor's Degree or Higher\")\n",
    "ax.set_ylabel(\"High School Graduation Rate in Percent\")\n",
    "ax.set_title(\"Residents who Received a Bachelor's Degree and Graduation Rates\")\n",
    "ax.set_yticklabels(med_yticks)\n",
    "ax.set_xticklabels(BachelorsDegree)\n",
    "ax.grid(axis = \"both\")\n",
    "\n",
    "plt.savefig(\"../Images/BachelorsDegree_GradRate.png\")\n",
    "plt.show()"
   ]
  },
  {
   "cell_type": "code",
   "execution_count": 21,
   "metadata": {},
   "outputs": [],
   "source": [
    "school_census_df.to_csv(\"../Resources/school_census.csv\", index=False)"
   ]
  },
  {
   "cell_type": "code",
   "execution_count": null,
   "metadata": {},
   "outputs": [],
   "source": []
  }
 ],
 "metadata": {
  "kernelspec": {
   "display_name": "Python 3",
   "language": "python",
   "name": "python3"
  },
  "language_info": {
   "codemirror_mode": {
    "name": "ipython",
    "version": 3
   },
   "file_extension": ".py",
   "mimetype": "text/x-python",
   "name": "python",
   "nbconvert_exporter": "python",
   "pygments_lexer": "ipython3",
   "version": "3.6.6"
  }
 },
 "nbformat": 4,
 "nbformat_minor": 2
}
