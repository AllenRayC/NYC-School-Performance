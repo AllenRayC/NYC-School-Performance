{
 "cells": [
  {
   "cell_type": "code",
   "execution_count": 31,
   "metadata": {},
   "outputs": [],
   "source": [
    "# this program will read in the felony data and combine it with performance data by precinct\n",
    "# it will then analyze the data for college career rate in 2014 vs the average felony rate\n",
    "\n",
    "# dependencies and setup\n",
    "import pandas as pd\n",
    "import numpy as np\n",
    "import math as math\n",
    "import matplotlib.pyplot as plt\n",
    "from scipy.stats import ttest_ind\n",
    "import pylab as pl\n",
    "\n",
    "# files to load\n",
    "crime_report = \"../Resources/seven-major-felony-offenses-by-precinct-2000-2017.xls\" # https://www1.nyc.gov/site/nypd/stats/crime-statistics/historical.page\n",
    "hs_performance = \"../Resources/Combined_HS_Performance_Data.csv\"\n",
    "\n",
    "# read files and store into pandas data frames\n",
    "crime_data = pd.read_excel(crime_report)\n",
    "hs_data = pd.read_csv(hs_performance)"
   ]
  },
  {
   "cell_type": "code",
   "execution_count": 32,
   "metadata": {},
   "outputs": [
    {
     "name": "stderr",
     "output_type": "stream",
     "text": [
      "C:\\Users\\Allen\\Anaconda3\\envs\\PythonData\\lib\\site-packages\\ipykernel_launcher.py:7: SettingWithCopyWarning: \n",
      "A value is trying to be set on a copy of a slice from a DataFrame\n",
      "\n",
      "See the caveats in the documentation: http://pandas.pydata.org/pandas-docs/stable/indexing.html#indexing-view-versus-copy\n",
      "  import sys\n"
     ]
    }
   ],
   "source": [
    "# get rid of blank spaces in column 1 of the felony data\n",
    "i = 0\n",
    "j = 0\n",
    "for row in crime_data[\"Seven Major Felony Offenses\"]:\n",
    "    try:\n",
    "        if math.isnan(row):\n",
    "            crime_data[\"Seven Major Felony Offenses\"][i] = j\n",
    "        else:\n",
    "            j = row\n",
    "    except TypeError:\n",
    "        pass\n",
    "    i += 1"
   ]
  },
  {
   "cell_type": "code",
   "execution_count": 33,
   "metadata": {},
   "outputs": [
    {
     "name": "stderr",
     "output_type": "stream",
     "text": [
      "C:\\Users\\Allen\\Anaconda3\\envs\\PythonData\\lib\\site-packages\\ipykernel_launcher.py:8: SettingWithCopyWarning: \n",
      "A value is trying to be set on a copy of a slice from a DataFrame\n",
      "\n",
      "See the caveats in the documentation: http://pandas.pydata.org/pandas-docs/stable/indexing.html#indexing-view-versus-copy\n",
      "  \n"
     ]
    }
   ],
   "source": [
    "# create a marker column that indicates a row that we want to keep\n",
    "i = 0\n",
    "crime_data[\"marker\"] = np.nan\n",
    "\n",
    "for row in crime_data[\"Unnamed: 1\"]:\n",
    "    try:\n",
    "        if row == \"TOTAL SEVEN MAJOR FELONY OFFENSES\":\n",
    "            crime_data[\"marker\"][i] = 1\n",
    "    except TypeError:\n",
    "        pass\n",
    "    i += 1"
   ]
  },
  {
   "cell_type": "code",
   "execution_count": 34,
   "metadata": {},
   "outputs": [],
   "source": [
    "# drop any rows where the marker is not populated\n",
    "crime_data = crime_data.dropna(how='any')"
   ]
  },
  {
   "cell_type": "code",
   "execution_count": 35,
   "metadata": {},
   "outputs": [],
   "source": [
    "# drop unneeded columns\n",
    "crime_data = crime_data.drop(columns= [\"Unnamed: 1\", \"Unnamed: 2\", \"Unnamed: 3\", \"Unnamed: 4\", \"Unnamed: 5\", \"Unnamed: 6\", \"Unnamed: 7\", \"Unnamed: 8\", \"Unnamed: 9\", \"Unnamed: 16\", \"Unnamed: 17\", \"Unnamed: 18\", \"Unnamed: 19\", \"marker\"])"
   ]
  },
  {
   "cell_type": "code",
   "execution_count": 36,
   "metadata": {},
   "outputs": [],
   "source": [
    "# rename columns to be used\n",
    "# we chose to use an average of the years 2008-2013 to compare to the college rate of 2014\n",
    "# this encompasses the middle school years and up to junior year of a typical 2014 HS graduate, which\n",
    "# we felt was more suitable than felony data for 1 year.\n",
    "crime_data = crime_data.rename(index=str, columns={\"Seven Major Felony Offenses\": \"Precinct\", \n",
    "                                                   \"Unnamed: 10\": \"major_felonies_2008\",\n",
    "                                                   \"Unnamed: 11\": \"major_felonies_2009\",\n",
    "                                                   \"Unnamed: 12\": \"major_felonies_2010\",\n",
    "                                                   \"Unnamed: 13\": \"major_felonies_2011\",\n",
    "                                                   \"Unnamed: 14\": \"major_felonies_2012\",\n",
    "                                                   \"Unnamed: 15\": \"major_felonies_2013\"})"
   ]
  },
  {
   "cell_type": "code",
   "execution_count": 37,
   "metadata": {},
   "outputs": [],
   "source": [
    "# cast Precint as int prior to merge\n",
    "crime_data[\"Precinct\"] = crime_data[\"Precinct\"].astype(int)\n",
    "\n",
    "# get the average of the felony data for 2008-2013\n",
    "crime_data[\"average\"] = (crime_data[\"major_felonies_2008\"] + crime_data[\"major_felonies_2009\"] + crime_data[\"major_felonies_2010\"] + crime_data[\"major_felonies_2011\"] + crime_data[\"major_felonies_2012\"] + crime_data[\"major_felonies_2013\"]) / 6\n",
    "\n",
    "# merge data\n",
    "performance_felony_data = hs_data.merge(hs_data.merge(crime_data, how='left', on='Precinct', sort=False))\n",
    "\n",
    "# get the felony rate per 1000 people\n",
    "performance_felony_data[\"felony_rate\"] = performance_felony_data[\"average\"] / performance_felony_data[\"Population\"] * 1000"
   ]
  },
  {
   "cell_type": "code",
   "execution_count": 38,
   "metadata": {},
   "outputs": [],
   "source": [
    "# select columns to be used and drop any rows with missing data\n",
    "graph_data = performance_felony_data[[\"college_career_rate_2014\", \"felony_rate\"]].dropna(how=\"any\")\n",
    "\n",
    "# multiply rate by 100 to show percentage on y-axis\n",
    "graph_data[\"college_career_rate_2014\"] = graph_data[\"college_career_rate_2014\"] * 100"
   ]
  },
  {
   "cell_type": "code",
   "execution_count": 40,
   "metadata": {},
   "outputs": [
    {
     "name": "stdout",
     "output_type": "stream",
     "text": [
      "y=-0.33842511381512863x+58.547615642681926\n"
     ]
    },
    {
     "data": {
      "image/png": "[encoded data removed]",
      "text/plain": [
       "<Figure size 432x288 with 1 Axes>"
      ]
     },
     "metadata": {},
     "output_type": "display_data"
    }
   ],
   "source": [
    "# scatter plot\n",
    "x = graph_data[\"felony_rate\"]\n",
    "y = graph_data[\"college_career_rate_2014\"]\n",
    "\n",
    "plt.scatter(x, y, marker=\"o\", facecolors=\"red\", edgecolors=\"black\")\n",
    "\n",
    "plt.title(\"College Career Rate 2014 vs Felony Rate\")\n",
    "plt.xlabel(\"Felony Rate (crimes per 1000 people)\")\n",
    "plt.ylabel(\"College Career Rate (%)\")\n",
    "\n",
    "# calc the trendline\n",
    "z = np.polyfit(x, y, 1)\n",
    "p = np.poly1d(z)\n",
    "pl.plot(x,p(x),\"r--\")\n",
    "\n",
    "# the line equation:\n",
    "print(f\"y={z[0]}x+{z[1]}\")\n",
    "\n",
    "plt.savefig(\"../Images/FelonyRate_vs_CollegeRate.png\")\n",
    "plt.show()"
   ]
  },
  {
   "cell_type": "code",
   "execution_count": 41,
   "metadata": {},
   "outputs": [],
   "source": [
    "# create bins\n",
    "bins = [0, 30, 50, 70, 85, 100]\n",
    "group_names = [\"0-30%\", \"30-50%\", \"50-70%\", \"70-85%\", \"85-100%\"]\n",
    "\n",
    "graph_data[\"Summary\"] = pd.cut(graph_data[\"college_career_rate_2014\"], bins, labels=group_names)\n",
    "\n",
    "grouped_graph_data = graph_data.groupby(by=\"Summary\")\n",
    "\n",
    "# calculate means and sems of the bins\n",
    "means = grouped_graph_data[\"felony_rate\"].mean()\n",
    "sem = grouped_graph_data[\"felony_rate\"].sem()"
   ]
  },
  {
   "cell_type": "code",
   "execution_count": 43,
   "metadata": {},
   "outputs": [
    {
     "data": {
      "image/png": "[encoded data removed]",
      "text/plain": [
       "<Figure size 432x288 with 1 Axes>"
      ]
     },
     "metadata": {},
     "output_type": "display_data"
    }
   ],
   "source": [
    "# plot means with error bars\n",
    "fig, ax = plt.subplots()\n",
    "\n",
    "ax.errorbar(np.arange(0, len(means)), means, yerr=sem, fmt=\"o\", color=\"b\")\n",
    "\n",
    "ax.set_xlim(-0.5, len(means)-0.5)\n",
    "ax.set_xticklabels(group_names)\n",
    "ax.set_xticks([0, 1, 2, 3, 4])\n",
    "\n",
    "ax.set_title(\"College Career Rate 2014 vs Average Felony Rate\")\n",
    "ax.set_xlabel(\"College Career Rate\")\n",
    "ax.set_ylabel(\"Average Felony Rate (per 1000 people)\")\n",
    "\n",
    "plt.grid()\n",
    "plt.savefig(\"../Images/Bin_CollegeRate_vs_FelonyRate.png\")\n",
    "plt.show()"
   ]
  },
  {
   "cell_type": "code",
   "execution_count": 44,
   "metadata": {},
   "outputs": [
    {
     "name": "stdout",
     "output_type": "stream",
     "text": [
      "p=value:0.02203323933933972\n"
     ]
    }
   ],
   "source": [
    "# t-test for \"0-30%\" group vs the rest\n",
    "x = graph_data.loc[graph_data[\"Summary\"] == \"0-30%\"][\"felony_rate\"]\n",
    "y = graph_data.loc[graph_data[\"Summary\"] != \"0-30%\"][\"felony_rate\"]\n",
    "\n",
    "(t_stat, p) = ttest_ind(x, y, equal_var=False)\n",
    "\n",
    "print(f\"p=value:{p}\")"
   ]
  },
  {
   "cell_type": "code",
   "execution_count": 45,
   "metadata": {},
   "outputs": [
    {
     "name": "stdout",
     "output_type": "stream",
     "text": [
      "p=value:0.3656236650986603\n"
     ]
    }
   ],
   "source": [
    "# t-test for \"30-50%\" group vs the rest\n",
    "x = graph_data.loc[graph_data[\"Summary\"] == \"30-50%\"][\"felony_rate\"]\n",
    "y = graph_data.loc[graph_data[\"Summary\"] != \"30-50%\"][\"felony_rate\"]\n",
    "\n",
    "(t_stat, p) = ttest_ind(x, y, equal_var=False)\n",
    "\n",
    "print(f\"p=value:{p}\")"
   ]
  },
  {
   "cell_type": "code",
   "execution_count": 46,
   "metadata": {},
   "outputs": [
    {
     "name": "stdout",
     "output_type": "stream",
     "text": [
      "p=value:0.9132398520653336\n"
     ]
    }
   ],
   "source": [
    "# t-test for \"50-70%\" group vs the rest\n",
    "x = graph_data.loc[graph_data[\"Summary\"] == \"50-70%\"][\"felony_rate\"]\n",
    "y = graph_data.loc[graph_data[\"Summary\"] != \"50-70%\"][\"felony_rate\"]\n",
    "\n",
    "(t_stat, p) = ttest_ind(x, y, equal_var=False)\n",
    "\n",
    "print(f\"p=value:{p}\")"
   ]
  },
  {
   "cell_type": "code",
   "execution_count": 47,
   "metadata": {},
   "outputs": [
    {
     "name": "stdout",
     "output_type": "stream",
     "text": [
      "p=value:0.15177220431770805\n"
     ]
    }
   ],
   "source": [
    "# t-test for \"70-85%\" group vs the rest\n",
    "x = graph_data.loc[graph_data[\"Summary\"] == \"70-85%\"][\"felony_rate\"]\n",
    "y = graph_data.loc[graph_data[\"Summary\"] != \"70-85%\"][\"felony_rate\"]\n",
    "\n",
    "(t_stat, p) = ttest_ind(x, y, equal_var=False)\n",
    "\n",
    "print(f\"p=value:{p}\")"
   ]
  },
  {
   "cell_type": "code",
   "execution_count": 48,
   "metadata": {},
   "outputs": [
    {
     "name": "stdout",
     "output_type": "stream",
     "text": [
      "p=value:0.03628164847146017\n"
     ]
    }
   ],
   "source": [
    "# t-test for \"85-100%\" group vs the rest\n",
    "x = graph_data.loc[graph_data[\"Summary\"] == \"85-100%\"][\"felony_rate\"]\n",
    "y = graph_data.loc[graph_data[\"Summary\"] != \"85-100%\"][\"felony_rate\"]\n",
    "\n",
    "(t_stat, p) = ttest_ind(x, y, equal_var=False)\n",
    "\n",
    "print(f\"p=value:{p}\")"
   ]
  }
 ],
 "metadata": {
  "kernelspec": {
   "display_name": "Python 3",
   "language": "python",
   "name": "python3"
  },
  "language_info": {
   "codemirror_mode": {
    "name": "ipython",
    "version": 3
   },
   "file_extension": ".py",
   "mimetype": "text/x-python",
   "name": "python",
   "nbconvert_exporter": "python",
   "pygments_lexer": "ipython3",
   "version": "3.6.6"
  }
 },
 "nbformat": 4,
 "nbformat_minor": 2
}
