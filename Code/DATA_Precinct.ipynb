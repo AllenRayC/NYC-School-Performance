{
 "cells": [
  {
   "cell_type": "code",
   "execution_count": 1,
   "metadata": {},
   "outputs": [],
   "source": [
    "# Programmer: Allen Chang\n",
    "\n",
    "# This program will map precinct number and precinct population to nyc high schools by DBN (code used by the NYC Department of Education to uniquely identify schools)\n",
    "\n",
    "# It will call maps.nyc.gov api to get the precinct number for each high school\n",
    "\n",
    "# Precinct population data (2010 Census) was taken from: http://johnkeefe.net/nyc-police-precinct-and-census-data\n",
    "# Direct link to data: https://fusiontables.google.com/DataSource?dsrcid=767562#rows:id=1\n",
    "\n",
    "# dependencies\n",
    "import requests\n",
    "import pandas as pd\n",
    "import numpy as np\n",
    "\n",
    "# files to load\n",
    "hs_directory = \"../Resources/Precinct_Needed.xlsx\" # dbn, address and borough of high schools in the performance data\n",
    "precinct_pop_summary = \"../Resources/NYC_Blocks_2010CensusData_Plus_Precincts-summary.csv\"\n",
    "\n",
    "# read files and store into pandas data frames\n",
    "high_schools = pd.read_excel(hs_directory)\n",
    "precinct_pop = pd.read_csv(precinct_pop_summary)"
   ]
  },
  {
   "cell_type": "code",
   "execution_count": 2,
   "metadata": {},
   "outputs": [],
   "source": [
    "# select required columns\n",
    "precinct_pop = precinct_pop[[\"precinct\", \"SUM(P0010001)\"]]"
   ]
  },
  {
   "cell_type": "code",
   "execution_count": 3,
   "metadata": {},
   "outputs": [],
   "source": [
    "# clean data\n",
    "high_schools[\"Address\"] = high_schools[\"Address\"].replace('- ', '-', regex=True)\n",
    "high_schools[\"Borough Name\"] = high_schools[\"Borough Name\"].replace('STATEN IS', 'STATEN ISLAND', regex=True)\n",
    "\n",
    "# rename column headers\n",
    "precinct_pop = precinct_pop.rename(index=str, columns={\"precinct\": \"Precinct\",\n",
    "                                                       \"SUM(P0010001)\": \"Population\"})\n",
    "\n",
    "# drop rows with missing data\n",
    "precinct_pop = precinct_pop.dropna(how='any')"
   ]
  },
  {
   "cell_type": "code",
   "execution_count": 4,
   "metadata": {},
   "outputs": [],
   "source": [
    "# replace spaces with %20 prior to creating query url\n",
    "high_schools[\"Address\"] = high_schools[\"Address\"].replace(' ', '%20', regex=True)\n",
    "\n",
    "# add column to store precinct numbers\n",
    "high_schools[\"Precinct\"] = np.nan"
   ]
  },
  {
   "cell_type": "code",
   "execution_count": 5,
   "metadata": {
    "scrolled": true
   },
   "outputs": [
    {
     "name": "stderr",
     "output_type": "stream",
     "text": [
      "C:\\Users\\Allen\\Anaconda3\\envs\\PythonData\\lib\\site-packages\\ipykernel_launcher.py:8: SettingWithCopyWarning: \n",
      "A value is trying to be set on a copy of a slice from a DataFrame\n",
      "\n",
      "See the caveats in the documentation: http://pandas.pydata.org/pandas-docs/stable/indexing.html#indexing-view-versus-copy\n",
      "  \n"
     ]
    }
   ],
   "source": [
    "# call api for each hs address and store precinct number\n",
    "i = 0\n",
    "for row in high_schools[\"Address\"]:\n",
    "    address = high_schools[\"Address\"][i]\n",
    "    borough = high_schools[\"Borough Name\"][i].strip()\n",
    "    url = f\"https://maps.nyc.gov/geoclient/v1/search.json?app_key=E2857975AA57366BC&app_id=nyc-gov-nypd&input={address},%20{borough}\"\n",
    "    query = requests.get(url).json()\n",
    "    high_schools[\"Precinct\"][i] = query[\"results\"][0][\"response\"][\"policePrecinct\"]\n",
    "    i += 1"
   ]
  },
  {
   "cell_type": "code",
   "execution_count": 6,
   "metadata": {},
   "outputs": [],
   "source": [
    "# remove unneeded columns\n",
    "high_schools = high_schools.drop(columns=[\"Address\", \"Borough Name\"])"
   ]
  },
  {
   "cell_type": "code",
   "execution_count": 7,
   "metadata": {},
   "outputs": [],
   "source": [
    "# merge data\n",
    "precinct_key = pd.merge(high_schools, precinct_pop, on=\"Precinct\")"
   ]
  },
  {
   "cell_type": "code",
   "execution_count": 9,
   "metadata": {},
   "outputs": [],
   "source": [
    "# export to excel file\n",
    "precinct_key.to_excel(\"../Resources/Precinct_Key.xlsx\", index=False)"
   ]
  }
 ],
 "metadata": {
  "kernelspec": {
   "display_name": "Python 3",
   "language": "python",
   "name": "python3"
  },
  "language_info": {
   "codemirror_mode": {
    "name": "ipython",
    "version": 3
   },
   "file_extension": ".py",
   "mimetype": "text/x-python",
   "name": "python",
   "nbconvert_exporter": "python",
   "pygments_lexer": "ipython3",
   "version": "3.6.6"
  }
 },
 "nbformat": 4,
 "nbformat_minor": 2
}
